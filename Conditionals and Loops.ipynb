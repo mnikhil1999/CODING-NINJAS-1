{
 "cells": [
  {
   "cell_type": "code",
   "execution_count": 3,
   "metadata": {},
   "outputs": [
    {
     "name": "stdout",
     "output_type": "stream",
     "text": [
      "False\n",
      "True\n",
      "True\n"
     ]
    }
   ],
   "source": [
    "#logical operators\n",
    "a = 20\n",
    "b = 10\n",
    "c1 = a>b\n",
    "c2 = a<b\n",
    "r1 = c1 and c2\n",
    "r2 = c1 or c2\n",
    "r3 = not(c2)\n",
    "print(r1)\n",
    "print(r2)\n",
    "print(r3)"
   ]
  },
  {
   "cell_type": "code",
   "execution_count": 6,
   "metadata": {},
   "outputs": [
    {
     "name": "stdout",
     "output_type": "stream",
     "text": [
      "NKR\n"
     ]
    }
   ],
   "source": [
    "#IF ELSE\n",
    "a = True\n",
    "if a:\n",
    "    print(\"NKR\")\n",
    "else:\n",
    "    print(\"NIK\")"
   ]
  },
  {
   "cell_type": "code",
   "execution_count": 3,
   "metadata": {},
   "outputs": [
    {
     "name": "stdout",
     "output_type": "stream",
     "text": [
      "7\n",
      "odd\n"
     ]
    }
   ],
   "source": [
    "#ODD or EVEN\n",
    "n = int(input())\n",
    "if n%2==0:\n",
    "    print(\"even\")\n",
    "else:\n",
    "    print(\"odd\")"
   ]
  },
  {
   "cell_type": "code",
   "execution_count": 2,
   "metadata": {},
   "outputs": [
    {
     "name": "stdout",
     "output_type": "stream",
     "text": [
      "Hello\n",
      "Hi\n"
     ]
    }
   ],
   "source": [
    "x = 5\n",
    "if x < 6:\n",
    "    print(\"Hello\")\n",
    "if x == 5:\n",
    "    print(\"Hi\")\n",
    "else:\n",
    "    print(\"Hey\")\n"
   ]
  },
  {
   "cell_type": "code",
   "execution_count": 3,
   "metadata": {},
   "outputs": [
    {
     "name": "stdout",
     "output_type": "stream",
     "text": [
      "11\n",
      "2\n",
      "4\n",
      "a is largest\n"
     ]
    }
   ],
   "source": [
    "#largest number\n",
    "a = int(input())\n",
    "b = int(input())\n",
    "c = int(input())\n",
    "if a>b and a>c:\n",
    "    print(\"a is largest\")\n",
    "    \n",
    "else:\n",
    "    print(\"a is not the largest\")"
   ]
  },
  {
   "cell_type": "markdown",
   "metadata": {},
   "source": [
    "###check number"
   ]
  },
  {
   "cell_type": "code",
   "execution_count": 5,
   "metadata": {},
   "outputs": [
    {
     "name": "stdout",
     "output_type": "stream",
     "text": [
      "0\n",
      "Zero\n"
     ]
    }
   ],
   "source": [
    "n = int(input())\n",
    "if n>0:\n",
    "    print(\"Positive\")\n",
    "elif n<0:\n",
    "    print(\"Negative\")\n",
    "else:\n",
    "    print(\"Zero\")"
   ]
  },
  {
   "cell_type": "code",
   "execution_count": 6,
   "metadata": {},
   "outputs": [
    {
     "name": "stdout",
     "output_type": "stream",
     "text": [
      "5\n",
      "6\n",
      "3\n"
     ]
    }
   ],
   "source": [
    "#nested if else\n",
    "n = int(input())\n",
    "m = int(input())\n",
    "if n%2==0:\n",
    "    if m%2==0:\n",
    "        print(1)\n",
    "    else:\n",
    "        print(2)\n",
    "else:\n",
    "    print(3)"
   ]
  },
  {
   "cell_type": "code",
   "execution_count": 9,
   "metadata": {},
   "outputs": [
    {
     "name": "stdout",
     "output_type": "stream",
     "text": [
      "7\n",
      "Weird\n"
     ]
    }
   ],
   "source": [
    "#HACKERRANK\n",
    "n = int(input())\n",
    "if n%2==0 and 2<=n<=5:\n",
    "    print(\"Not Weird\")\n",
    "elif n%2==0 and 6<=n<=20:\n",
    "    print(\"Weird\")\n",
    "elif n%2==0 and n>20:\n",
    "    print(\"Not Weird\")\n",
    "else:\n",
    "    print(\"Weird\")"
   ]
  },
  {
   "cell_type": "code",
   "execution_count": 11,
   "metadata": {},
   "outputs": [
    {
     "name": "stdout",
     "output_type": "stream",
     "text": [
      "10\n",
      "5\n",
      "15\n",
      "5\n",
      "50\n"
     ]
    }
   ],
   "source": [
    "#hackerrank\n",
    "#sum, subtract, product\n",
    "a = int(input())\n",
    "b = int(input())\n",
    "add = a+b\n",
    "sub = a-b\n",
    "mul = a*b\n",
    "print(add)\n",
    "print(sub)\n",
    "print(mul)"
   ]
  },
  {
   "cell_type": "code",
   "execution_count": 14,
   "metadata": {},
   "outputs": [
    {
     "name": "stdout",
     "output_type": "stream",
     "text": [
      "C\n"
     ]
    }
   ],
   "source": [
    "if True or True:\n",
    "    if False and True or False:\n",
    "        print('A')\n",
    "    elif False and False or True and True:\n",
    "       print('B')\n",
    "    else:\n",
    "      print('C')\n",
    "else:\n",
    "     print('D')\n"
   ]
  },
  {
   "cell_type": "code",
   "execution_count": 15,
   "metadata": {},
   "outputs": [
    {
     "name": "stdout",
     "output_type": "stream",
     "text": [
      "6\n",
      "1\n",
      "2\n",
      "3\n",
      "4\n",
      "5\n",
      "6\n"
     ]
    }
   ],
   "source": [
    "#print first n natural numbers\n",
    "n = int(input())\n",
    "i = 1\n",
    "while i<=n:\n",
    "    print(i)\n",
    "    i = i+1"
   ]
  },
  {
   "cell_type": "code",
   "execution_count": 3,
   "metadata": {},
   "outputs": [
    {
     "name": "stdout",
     "output_type": "stream",
     "text": [
      "6\n",
      "21\n"
     ]
    }
   ],
   "source": [
    "#sum of numbers from 1 to n\n",
    "n = int(input())\n",
    "i=1\n",
    "sum=0\n",
    "while i<=n:\n",
    "    # print(sum)\n",
    "    sum = sum+i\n",
    "    i = i+1\n",
    "print(sum)"
   ]
  },
  {
   "cell_type": "code",
   "execution_count": 5,
   "metadata": {},
   "outputs": [
    {
     "name": "stdout",
     "output_type": "stream",
     "text": [
      "6\n",
      "12\n"
     ]
    }
   ],
   "source": [
    "#sum of even numbers\n",
    "n =int(input())\n",
    "i = 2\n",
    "sum = 0\n",
    "while n%2==0 and i<=n:\n",
    "    sum = sum +i\n",
    "    i = i+2\n",
    "print(sum)"
   ]
  },
  {
   "cell_type": "code",
   "execution_count": 1,
   "metadata": {},
   "outputs": [
    {
     "name": "stdout",
     "output_type": "stream",
     "text": [
      "Hello World\n"
     ]
    }
   ],
   "source": [
    "print(\"Hello World\")"
   ]
  },
  {
   "cell_type": "code",
   "execution_count": 5,
   "metadata": {},
   "outputs": [
    {
     "name": "stdout",
     "output_type": "stream",
     "text": [
      "10\n",
      "n is not prime\n"
     ]
    }
   ],
   "source": [
    "#prime number\n",
    "n = int(input())\n",
    "i = 2\n",
    "while i<n:\n",
    "    if(n%i==0):\n",
    "        print(\"n is not prime\")\n",
    "        break;\n",
    "    i=i+1\n",
    "else:\n",
    "        print(\"n is prime\")\n",
    "    "
   ]
  },
  {
   "cell_type": "code",
   "execution_count": 4,
   "metadata": {},
   "outputs": [
    {
     "name": "stdout",
     "output_type": "stream",
     "text": [
      "10\n",
      "n is not prime\n"
     ]
    }
   ],
   "source": [
    "#prime number using flag\n",
    "n = int(input())\n",
    "i = 2\n",
    "flag = False\n",
    "while i<n:\n",
    "    if(n%i==0):\n",
    "        flag = True\n",
    "    i=i+1\n",
    "if flag:\n",
    "    print(\"n is not prime\")\n",
    "else:\n",
    "    print(\"n is prime\")\n",
    "    "
   ]
  },
  {
   "cell_type": "code",
   "execution_count": 5,
   "metadata": {},
   "outputs": [
    {
     "name": "stdout",
     "output_type": "stream",
     "text": [
      "10\n",
      "2\n",
      "3\n",
      "5\n",
      "7\n"
     ]
    }
   ],
   "source": [
    "#nested loop\n",
    "n = int(input())\n",
    "k = 2\n",
    "while k<=n:\n",
    "    d=2\n",
    "    flag = False #means k is not divisible by any number\n",
    "    while d<k:\n",
    "        if(k%d==0):\n",
    "            flag= True\n",
    "        d=d+1\n",
    "    if not(flag):\n",
    "        print(k)\n",
    "    k=k+1\n",
    "    "
   ]
  },
  {
   "cell_type": "code",
   "execution_count": 1,
   "metadata": {},
   "outputs": [
    {
     "name": "stdout",
     "output_type": "stream",
     "text": [
      "7\n",
      "2\n",
      "3\n",
      "5\n",
      "7\n"
     ]
    }
   ],
   "source": [
    "#prime number\n",
    "n = int(input())  \n",
    "  \n",
    "for num in range(2,n + 1):  \n",
    "   if num > 1:  \n",
    "       for i in range(2,num):  \n",
    "           if (num % i) == 0:  \n",
    "               break  \n",
    "       else:  \n",
    "           print(num)"
   ]
  },
  {
   "cell_type": "raw",
   "metadata": {},
   "source": [
    "Fahrenheit to Celcius"
   ]
  },
  {
   "cell_type": "code",
   "execution_count": 2,
   "metadata": {},
   "outputs": [
    {
     "name": "stdout",
     "output_type": "stream",
     "text": [
      "10\n",
      "100\n",
      "10\n",
      "10 -12\n",
      "20 -6\n",
      "30 -1\n",
      "40 4\n",
      "50 10\n",
      "60 15\n",
      "70 21\n",
      "80 26\n",
      "90 32\n",
      "100 37\n"
     ]
    }
   ],
   "source": [
    "S = int(input())\n",
    "E = int(input())\n",
    "W = int(input())\n",
    "while(S<=E):\n",
    "    C = ((S-32)*5/9)\n",
    "    print(S,int(C))\n",
    "    S = S+W\n"
   ]
  },
  {
   "cell_type": "code",
   "execution_count": 7,
   "metadata": {},
   "outputs": [
    {
     "name": "stdout",
     "output_type": "stream",
     "text": [
      "0\n",
      "100\n",
      "20\n",
      "0 -17\n",
      "20 -6\n",
      "40 4\n",
      "60 15\n",
      "80 26\n",
      "100 37\n"
     ]
    }
   ],
   "source": [
    "S = int(input())\n",
    "E = int(input())\n",
    "W = int(input())\n",
    "if(0<=S<=80) and (S <= E <=  900) and (0 <= W <= 40 ):\n",
    "    for i in range(S,E+1,W):\n",
    "        print(i,int((i-32)*(5/9)))"
   ]
  },
  {
   "cell_type": "markdown",
   "metadata": {},
   "source": [
    "###Calculator"
   ]
  },
  {
   "cell_type": "code",
   "execution_count": 3,
   "metadata": {},
   "outputs": [
    {
     "name": "stdout",
     "output_type": "stream",
     "text": [
      "2\n",
      "3\n",
      "4\n",
      "-1\n",
      "6\n"
     ]
    }
   ],
   "source": [
    "while True:\n",
    "    n = int(input())\n",
    "    if (n==1):\n",
    "        a=int(input())\n",
    "        b=int(input())\n",
    "        s=a+b\n",
    "        print(s)\n",
    "    elif (n==2):\n",
    "        a=int(input())\n",
    "        b=int(input())\n",
    "        d=a-b\n",
    "        print(d)\n",
    "    elif (n==3):\n",
    "        a=int(input())\n",
    "        b=int(input())\n",
    "        p=a*b\n",
    "        print(p)\n",
    "    elif (n==4):\n",
    "        a=int(input())\n",
    "        b=int(input())\n",
    "        q=a//b\n",
    "        print(q)\n",
    "    elif (n==5):\n",
    "        a=int(input())\n",
    "        b=int(input())\n",
    "        r=a%b\n",
    "        print(r)\n",
    "    elif (n==6):\n",
    "        break\n",
    "    else :\n",
    "        print(\"Invalid Operation\")\n",
    "\n"
   ]
  },
  {
   "cell_type": "markdown",
   "metadata": {},
   "source": [
    "###Reverse Number"
   ]
  },
  {
   "cell_type": "code",
   "execution_count": 18,
   "metadata": {},
   "outputs": [
    {
     "name": "stdout",
     "output_type": "stream",
     "text": [
      "121\n",
      "121\n"
     ]
    }
   ],
   "source": [
    "N = int(input())\n",
    "rev = 0\n",
    "while(N>0):\n",
    "    rev = (rev*10)+(N%10)\n",
    "    N = N//10\n",
    "print(rev)"
   ]
  },
  {
   "cell_type": "code",
   "execution_count": 7,
   "metadata": {},
   "outputs": [
    {
     "name": "stdout",
     "output_type": "stream",
     "text": [
      "1357\n",
      "False\n"
     ]
    }
   ],
   "source": [
    "#Palindrome number\n",
    "N = int(input())\n",
    "rev = 0\n",
    "X = N\n",
    "while(N>0):\n",
    "    rev = (rev*10)+(N%10)\n",
    "    N = N//10\n",
    "if(X==rev):\n",
    "    print(\"True\")\n",
    "else:\n",
    "    print(\"False\")"
   ]
  },
  {
   "cell_type": "code",
   "execution_count": 3,
   "metadata": {},
   "outputs": [
    {
     "name": "stdout",
     "output_type": "stream",
     "text": [
      "3\n",
      "2\n"
     ]
    }
   ],
   "source": [
    "#nth fibonacci number\n",
    "n =int(input()) \n",
    "a = 0\n",
    "b = 1\n",
    "if n < 0: \n",
    "    print(\"Incorrect input\") \n",
    "elif n == 0: \n",
    "    print(\"0\")\n",
    "elif n == 1: \n",
    "    print(\"1\")\n",
    "else: \n",
    "    for i in range(1,n): \n",
    "        c = a + b \n",
    "        a = b \n",
    "        b = c \n",
    "    print(c)  "
   ]
  },
  {
   "cell_type": "code",
   "execution_count": 3,
   "metadata": {},
   "outputs": [
    {
     "name": "stdout",
     "output_type": "stream",
     "text": [
      "12356\n",
      "8 9\n"
     ]
    }
   ],
   "source": [
    "#sum of odd and even digits of a number\n",
    "n = int(input())\n",
    "se = 0\n",
    "so = 0\n",
    "while(n!=0):\n",
    "    r = n%10\n",
    "    if (r%2==0):\n",
    "        se=se+r\n",
    "    else:\n",
    "        so=so+r\n",
    "    n=(n//10)\n",
    "print(se,so)"
   ]
  }
 ],
 "metadata": {
  "kernelspec": {
   "display_name": "Python 3",
   "language": "python",
   "name": "python3"
  },
  "language_info": {
   "codemirror_mode": {
    "name": "ipython",
    "version": 3
   },
   "file_extension": ".py",
   "mimetype": "text/x-python",
   "name": "python",
   "nbconvert_exporter": "python",
   "pygments_lexer": "ipython3",
   "version": "3.6.4"
  }
 },
 "nbformat": 4,
 "nbformat_minor": 2
}
