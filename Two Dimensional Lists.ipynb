{
 "cells": [
  {
   "cell_type": "code",
   "execution_count": 3,
   "metadata": {},
   "outputs": [],
   "source": [
    "li = [[1,2,3,4],[5,6,7,8],[9,10,11,12],[13,14,15,16]]"
   ]
  },
  {
   "cell_type": "code",
   "execution_count": 4,
   "metadata": {},
   "outputs": [
    {
     "data": {
      "text/plain": [
       "11"
      ]
     },
     "execution_count": 4,
     "metadata": {},
     "output_type": "execute_result"
    }
   ],
   "source": [
    "li[2][2]"
   ]
  },
  {
   "cell_type": "code",
   "execution_count": 5,
   "metadata": {},
   "outputs": [],
   "source": [
    "#replacing value\n",
    "li[2][2] = 25"
   ]
  },
  {
   "cell_type": "code",
   "execution_count": 6,
   "metadata": {},
   "outputs": [
    {
     "data": {
      "text/plain": [
       "[[1, 2, 3, 4], [5, 6, 7, 8], [9, 10, 25, 12], [13, 14, 15, 16]]"
      ]
     },
     "execution_count": 6,
     "metadata": {},
     "output_type": "execute_result"
    }
   ],
   "source": [
    "li"
   ]
  },
  {
   "cell_type": "code",
   "execution_count": null,
   "metadata": {},
   "outputs": [],
   "source": [
    "#jagged list - column size is not same"
   ]
  },
  {
   "cell_type": "code",
   "execution_count": 8,
   "metadata": {},
   "outputs": [
    {
     "name": "stdout",
     "output_type": "stream",
     "text": [
      "[1, 4, 9, 16]\n"
     ]
    }
   ],
   "source": [
    "#list comprehension\n",
    "\n",
    "li = [1,2,3,4]\n",
    "li_sq = [ele**2 for ele in li]\n",
    "print(li_sq)"
   ]
  },
  {
   "cell_type": "code",
   "execution_count": 12,
   "metadata": {},
   "outputs": [
    {
     "name": "stdout",
     "output_type": "stream",
     "text": [
      "[1, 4, 9, 16]\n"
     ]
    }
   ],
   "source": [
    "#simle approach\n",
    "li_square = []\n",
    "for ele in li:\n",
    "    li_square.append(ele**2)\n",
    "print(li_square)"
   ]
  },
  {
   "cell_type": "code",
   "execution_count": 10,
   "metadata": {},
   "outputs": [
    {
     "name": "stdout",
     "output_type": "stream",
     "text": [
      "[4, 16]\n"
     ]
    }
   ],
   "source": [
    "li_even_sq = [ele**2 for ele in li if ele%2==0]\n",
    "print(li_even_sq)"
   ]
  },
  {
   "cell_type": "code",
   "execution_count": 13,
   "metadata": {},
   "outputs": [
    {
     "name": "stdout",
     "output_type": "stream",
     "text": [
      "[2, 4]\n"
     ]
    }
   ],
   "source": [
    "#intersection with simple approach\n",
    "\n",
    "li_1 = [1,2,3,4]\n",
    "li_2 = [2,4]\n",
    "li_intersection = []\n",
    "for ele in li_1:\n",
    "    for ele_2 in li_2:\n",
    "        if ele == ele_2:\n",
    "            li_intersection.append(ele)\n",
    "print(li_intersection)"
   ]
  },
  {
   "cell_type": "code",
   "execution_count": 16,
   "metadata": {},
   "outputs": [
    {
     "name": "stdout",
     "output_type": "stream",
     "text": [
      "[2, 4]\n"
     ]
    }
   ],
   "source": [
    "#intersection with list comprehension\n",
    "\n",
    "li_intersection = [ele for ele in li_1 for ele_2 in li_2 if ele==ele_2]\n",
    "print(li_intersection)"
   ]
  },
  {
   "cell_type": "code",
   "execution_count": 19,
   "metadata": {},
   "outputs": [
    {
     "name": "stdout",
     "output_type": "stream",
     "text": [
      "[1, 4, 3, 16, 5]\n"
     ]
    }
   ],
   "source": [
    "li = [1,2,3,4,5]\n",
    "li_new = [ele**2 if ele%2==0  else ele for ele in li]\n",
    "print(li_new)"
   ]
  },
  {
   "cell_type": "code",
   "execution_count": 21,
   "metadata": {},
   "outputs": [
    {
     "name": "stdout",
     "output_type": "stream",
     "text": [
      "['N', 'I', 'K', 'H', 'I', 'L']\n"
     ]
    }
   ],
   "source": [
    "#string into list\n",
    "s = \"NIKHIL\"\n",
    "li_new = [ele for ele in s]\n",
    "print(li_new)"
   ]
  },
  {
   "cell_type": "code",
   "execution_count": 26,
   "metadata": {},
   "outputs": [
    {
     "name": "stdout",
     "output_type": "stream",
     "text": [
      "[['N', 'I', 'K', 'H', 'I', 'L'], ['K', 'U', 'M', 'A', 'R'], ['R', 'A', 'T', 'H', 'O', 'R', 'E']]\n"
     ]
    }
   ],
   "source": [
    "#2d list\n",
    "\n",
    "li = [\"NIKHIL\",\"KUMAR\",\"RATHORE\"]\n",
    "li_2d = [[ele for ele in ele] for ele in li]\n",
    "print(li_2d)"
   ]
  },
  {
   "cell_type": "code",
   "execution_count": 28,
   "metadata": {},
   "outputs": [
    {
     "name": "stdout",
     "output_type": "stream",
     "text": [
      "[[0, 0, 0, 0], [0, 1, 2, 3], [0, 2, 4, 6]]\n"
     ]
    }
   ],
   "source": [
    "li = [[i*j for j in range(4)] for i in range(3)]\n",
    "print(li)"
   ]
  },
  {
   "cell_type": "code",
   "execution_count": 31,
   "metadata": {},
   "outputs": [
    {
     "name": "stdout",
     "output_type": "stream",
     "text": [
      "2 3\n",
      "1 2 3\n",
      "4 5 6\n",
      "[[1, 2, 3], [4, 5, 6]]\n"
     ]
    }
   ],
   "source": [
    "#input of two dimensional lists\n",
    "#taking n,m\n",
    "\n",
    "str = input().split()\n",
    "n,m = int(str[0]),int(str[1])\n",
    "li = [[int(j) for j in input().split()] for i in range(n)]\n",
    "print(li)"
   ]
  },
  {
   "cell_type": "code",
   "execution_count": 32,
   "metadata": {},
   "outputs": [
    {
     "name": "stdout",
     "output_type": "stream",
     "text": [
      "2\n",
      "1 4 5\n",
      "4 5 7 8\n",
      "[[1, 4, 5], [4, 5, 7, 8]]\n"
     ]
    }
   ],
   "source": [
    "#taking n only(jagged list)\n",
    "\n",
    "n = int(input())\n",
    "li = [[int (j) for j in input().split()] for i in range(n)]\n",
    "print(li)"
   ]
  },
  {
   "cell_type": "code",
   "execution_count": 34,
   "metadata": {},
   "outputs": [
    {
     "name": "stdout",
     "output_type": "stream",
     "text": [
      "3 4\n",
      "1 2 3 4 5 6 7 8 9 10 11 12\n",
      "[[1, 2, 3, 4], [5, 6, 7, 8], [9, 10, 11, 12]]\n"
     ]
    }
   ],
   "source": [
    "#input of two dimensional lists - 2\n",
    "\n",
    "str = input().split()\n",
    "n, m = int(str[0]),int(str[1])\n",
    "b = input().split()\n",
    "arr = [[int(b[m*i+j]) for j in range(m)] for i in range(n)]\n",
    "print(arr)"
   ]
  },
  {
   "cell_type": "code",
   "execution_count": 35,
   "metadata": {},
   "outputs": [
    {
     "name": "stdout",
     "output_type": "stream",
     "text": [
      "3 4 1 2 3 4 5 6 7 8 9 10 11 12\n",
      "[[1, 2, 3, 4], [5, 6, 7, 8], [9, 10, 11, 12]]\n"
     ]
    }
   ],
   "source": [
    "#doing the above task taking all the inputs in same line\n",
    "\n",
    "str = input().split()\n",
    "n,m = int(str[0]),int(str[1])\n",
    "b = str[2:]\n",
    "arr = [[int(b[m*i+j]) for j in range(m)] for i in range(n)]\n",
    "print(arr)"
   ]
  },
  {
   "cell_type": "code",
   "execution_count": 37,
   "metadata": {},
   "outputs": [
    {
     "name": "stdout",
     "output_type": "stream",
     "text": [
      "1 2 3 4 \n",
      "5 6 7 8 \n",
      "9 10 11 12 \n"
     ]
    }
   ],
   "source": [
    "#printing 2d list\n",
    "#when m and n are known\n",
    "\n",
    "li = [[1,2,3,4],[5,6,7,8],[9,10,11,12]]\n",
    "for i in range(n):\n",
    "    for j in range(m):\n",
    "        print(li[i][j],end = ' ')\n",
    "    print()\n"
   ]
  },
  {
   "cell_type": "code",
   "execution_count": 38,
   "metadata": {},
   "outputs": [
    {
     "name": "stdout",
     "output_type": "stream",
     "text": [
      "1 2 3 4 \n",
      "5 6 \n",
      "7 8 9 \n"
     ]
    }
   ],
   "source": [
    "#printing 2d list\n",
    "#jagged list\n",
    "\n",
    "li = [[1,2,3,4],[5,6],[7,8,9]]\n",
    "for row in li:\n",
    "    for ele in row:\n",
    "        print(ele, end=' ')\n",
    "    print()"
   ]
  },
  {
   "cell_type": "code",
   "execution_count": 39,
   "metadata": {},
   "outputs": [
    {
     "data": {
      "text/plain": [
       "'1ab2ab3'"
      ]
     },
     "execution_count": 39,
     "metadata": {},
     "output_type": "execute_result"
    }
   ],
   "source": [
    "#join function in string\n",
    "\n",
    "'ab'.join(['1','2','3'])"
   ]
  },
  {
   "cell_type": "code",
   "execution_count": 45,
   "metadata": {},
   "outputs": [
    {
     "ename": "TypeError",
     "evalue": "'list' object is not callable",
     "output_type": "error",
     "traceback": [
      "\u001b[1;31m---------------------------------------------------------------------------\u001b[0m",
      "\u001b[1;31mTypeError\u001b[0m                                 Traceback (most recent call last)",
      "\u001b[1;32m<ipython-input-45-52361cdcaaba>\u001b[0m in \u001b[0;36m<module>\u001b[1;34m()\u001b[0m\n\u001b[0;32m      4\u001b[0m \u001b[0mn\u001b[0m \u001b[1;33m=\u001b[0m \u001b[1;36m3\u001b[0m\u001b[1;33m\u001b[0m\u001b[0m\n\u001b[0;32m      5\u001b[0m \u001b[1;32mfor\u001b[0m \u001b[0mrow\u001b[0m \u001b[1;32min\u001b[0m \u001b[0mli\u001b[0m\u001b[1;33m:\u001b[0m\u001b[1;33m\u001b[0m\u001b[0m\n\u001b[1;32m----> 6\u001b[1;33m     \u001b[0moutput\u001b[0m \u001b[1;33m=\u001b[0m \u001b[1;34m' '\u001b[0m\u001b[1;33m.\u001b[0m\u001b[0mjoin\u001b[0m\u001b[1;33m(\u001b[0m\u001b[1;33m[\u001b[0m\u001b[0mstr\u001b[0m\u001b[1;33m(\u001b[0m\u001b[0mele\u001b[0m\u001b[1;33m)\u001b[0m \u001b[1;32mfor\u001b[0m \u001b[0mele\u001b[0m \u001b[1;32min\u001b[0m \u001b[0mrow\u001b[0m\u001b[1;33m]\u001b[0m\u001b[1;33m)\u001b[0m\u001b[1;33m\u001b[0m\u001b[0m\n\u001b[0m\u001b[0;32m      7\u001b[0m     \u001b[0mprint\u001b[0m\u001b[1;33m(\u001b[0m\u001b[0moutput\u001b[0m\u001b[1;33m)\u001b[0m\u001b[1;33m\u001b[0m\u001b[0m\n",
      "\u001b[1;32m<ipython-input-45-52361cdcaaba>\u001b[0m in \u001b[0;36m<listcomp>\u001b[1;34m(.0)\u001b[0m\n\u001b[0;32m      4\u001b[0m \u001b[0mn\u001b[0m \u001b[1;33m=\u001b[0m \u001b[1;36m3\u001b[0m\u001b[1;33m\u001b[0m\u001b[0m\n\u001b[0;32m      5\u001b[0m \u001b[1;32mfor\u001b[0m \u001b[0mrow\u001b[0m \u001b[1;32min\u001b[0m \u001b[0mli\u001b[0m\u001b[1;33m:\u001b[0m\u001b[1;33m\u001b[0m\u001b[0m\n\u001b[1;32m----> 6\u001b[1;33m     \u001b[0moutput\u001b[0m \u001b[1;33m=\u001b[0m \u001b[1;34m' '\u001b[0m\u001b[1;33m.\u001b[0m\u001b[0mjoin\u001b[0m\u001b[1;33m(\u001b[0m\u001b[1;33m[\u001b[0m\u001b[0mstr\u001b[0m\u001b[1;33m(\u001b[0m\u001b[0mele\u001b[0m\u001b[1;33m)\u001b[0m \u001b[1;32mfor\u001b[0m \u001b[0mele\u001b[0m \u001b[1;32min\u001b[0m \u001b[0mrow\u001b[0m\u001b[1;33m]\u001b[0m\u001b[1;33m)\u001b[0m\u001b[1;33m\u001b[0m\u001b[0m\n\u001b[0m\u001b[0;32m      7\u001b[0m     \u001b[0mprint\u001b[0m\u001b[1;33m(\u001b[0m\u001b[0moutput\u001b[0m\u001b[1;33m)\u001b[0m\u001b[1;33m\u001b[0m\u001b[0m\n",
      "\u001b[1;31mTypeError\u001b[0m: 'list' object is not callable"
     ]
    }
   ],
   "source": [
    "#printing 2d list using join function\n",
    "\n",
    "li = [[1,2,3,4],[5,6],[7,8,9]]\n",
    "n = 3\n",
    "for row in li:\n",
    "    output = ' '.join([str(ele) for ele in row])\n",
    "    print(output)"
   ]
  },
  {
   "cell_type": "code",
   "execution_count": 48,
   "metadata": {},
   "outputs": [
    {
     "name": "stdout",
     "output_type": "stream",
     "text": [
      "21 3\n"
     ]
    }
   ],
   "source": [
    "#largest column sum\n",
    "#want index of the largest sum column\n",
    "\n",
    "def lar_col_sum(li):\n",
    "    n = len(li)\n",
    "    m = len(li[0])\n",
    "    \n",
    "    max_sum = 0\n",
    "    max_col_index = 0\n",
    "    \n",
    "    for j in range(m):\n",
    "        sum = 0\n",
    "        for i in range(n):\n",
    "            sum += li[i][j]\n",
    "            \n",
    "        if sum > max_sum:\n",
    "            max_col_index = j\n",
    "            max_sum = sum\n",
    "            \n",
    "    return max_sum,max_col_index\n",
    "\n",
    "li = [[1,2,3,4],[8,7,6,5],[9,10,11,12]]\n",
    "lar_sum,lar_col_index = lar_col_sum(li)\n",
    "print(lar_sum,lar_col_index)"
   ]
  },
  {
   "cell_type": "code",
   "execution_count": 4,
   "metadata": {},
   "outputs": [
    {
     "name": "stdout",
     "output_type": "stream",
     "text": [
      "1\n",
      "4 4\n",
      "1 2 3 4\n",
      "5 6 7 8\n",
      "9 10 11 12\n",
      "13 14 15 16\n",
      "1 2 3 4 8 12 16 15 14 13 9 5 6 7 11 10 \n"
     ]
    }
   ],
   "source": [
    "#spiral print\n",
    "def spiralPrint(arr):\n",
    "    count=0\n",
    "    row_start=0\n",
    "    row_end=m-1\n",
    "    column_start=0\n",
    "    column_end=n-1\n",
    "    \n",
    "    while count<m*n:\n",
    "        for i in range(column_start,column_end+1):\n",
    "            print(arr[row_start][i],end=\" \")\n",
    "            count+=1\n",
    "        row_start+=1\n",
    "        for j in range(row_start,row_end+1):\n",
    "            print(arr[j][column_end],end=\" \")\n",
    "            count+=1\n",
    "        column_end-=1\n",
    "        for k in range(column_end,column_start-1,-1):\n",
    "            print(arr[row_end][k],end=\" \")\n",
    "            count+=1\n",
    "        row_end-=1\n",
    "        for l in range(row_end,row_start-1,-1):\n",
    "            print(arr[l][column_start],end=\" \")\n",
    "            count+=1\n",
    "        column_start+=1\n",
    "    return\n",
    "\n",
    "#Main\n",
    "T=int(input())\n",
    "for t in range(T):\n",
    "\n",
    "    m,n=[int(c) for c in input().split()]\n",
    "    arr = [[int(x) for x in input().split()] for j in range(m)]\n",
    "    spiralPrint(arr)\n",
    "    print()\n"
   ]
  },
  {
   "cell_type": "code",
   "execution_count": 13,
   "metadata": {},
   "outputs": [
    {
     "name": "stdout",
     "output_type": "stream",
     "text": [
      "1\n",
      "3 3\n",
      "1 3 5\n",
      "2 4 6\n",
      "5 7 9\n",
      "9 12 21 \n"
     ]
    }
   ],
   "source": [
    "#row wise sum\n",
    "\n",
    "def rowWiseSum(arr):\n",
    "    rows = len(arr)\n",
    "    cols = len(arr[0])\n",
    "    \n",
    "    for i in range(0, rows):\n",
    "        sumRow = 0\n",
    "        for j in range(0, cols):\n",
    "            sumRow += arr[i][j]\n",
    "        print(sumRow,end=\" \")\n",
    "    print()\n",
    "        \n",
    "    \n",
    "\n",
    "t = int(input())\n",
    "while t>0:\n",
    "    \n",
    "    m,n=[int(c) for c in input().split()]\n",
    "    arr = [[int(x) for x in input().split()] for j in range(m)]\n",
    "    if m!=0 and n!=0:\n",
    "        rowWiseSum(arr)\n",
    "    t-=1"
   ]
  },
  {
   "cell_type": "code",
   "execution_count": 12,
   "metadata": {},
   "outputs": [
    {
     "name": "stdout",
     "output_type": "stream",
     "text": [
      "1\n",
      "3 3\n",
      "1 2 3\n",
      "4 5 6\n",
      "7 8 9\n",
      "6 15 24\n"
     ]
    }
   ],
   "source": [
    "#row wise sum\n",
    "\n",
    "def rowWiseSum(arr):\n",
    "    list = []\n",
    "    for row in arr:\n",
    "        sum = 0\n",
    "        for ele in row:\n",
    "            sum = sum + ele\n",
    "        list.append(sum)\n",
    "    return list\n",
    "    \n",
    "\n",
    "t = int(input())\n",
    "while t>0:\n",
    "    \n",
    "    m,n=[int(c) for c in input().split()]\n",
    "    arr = [[int(x) for x in input().split()] for j in range(m)]\n",
    "    l = rowWiseSum(arr)\n",
    "    print(*l)\n",
    "    t-=1"
   ]
  }
 ],
 "metadata": {
  "kernelspec": {
   "display_name": "Python 3",
   "language": "python",
   "name": "python3"
  },
  "language_info": {
   "codemirror_mode": {
    "name": "ipython",
    "version": 3
   },
   "file_extension": ".py",
   "mimetype": "text/x-python",
   "name": "python",
   "nbconvert_exporter": "python",
   "pygments_lexer": "ipython3",
   "version": "3.6.4"
  }
 },
 "nbformat": 4,
 "nbformat_minor": 2
}
