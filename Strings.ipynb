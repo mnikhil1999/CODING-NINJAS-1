{
 "cells": [
  {
   "cell_type": "markdown",
   "metadata": {},
   "source": [
    "#strings are immutable\n",
    "#we can change a value using index, we have to chnage references\n",
    "\n"
   ]
  },
  {
   "cell_type": "code",
   "execution_count": 1,
   "metadata": {},
   "outputs": [
    {
     "name": "stdout",
     "output_type": "stream",
     "text": [
      "3\n"
     ]
    }
   ],
   "source": [
    "#iterating using character by character\n",
    "#check how many times l is coming\n",
    "\n",
    "str = \"Hello World\"\n",
    "\n",
    "count = 0\n",
    "for letter in str:\n",
    "    if (letter == \"l\"):\n",
    "        count = count+1\n",
    "print(count)"
   ]
  },
  {
   "cell_type": "code",
   "execution_count": 5,
   "metadata": {},
   "outputs": [
    {
     "name": "stdout",
     "output_type": "stream",
     "text": [
      "3\n"
     ]
    }
   ],
   "source": [
    "#iterating using index\n",
    "\n",
    "str = \"Hello World\"\n",
    "\n",
    "count = 0\n",
    "for i in range(len(str)):\n",
    "    if (str[i]==\"l\"):\n",
    "        count = count+1\n",
    "print(count)"
   ]
  },
  {
   "cell_type": "code",
   "execution_count": 7,
   "metadata": {},
   "outputs": [
    {
     "name": "stdout",
     "output_type": "stream",
     "text": [
      "yes\n"
     ]
    }
   ],
   "source": [
    "#in and notin operation on string\n",
    "\n",
    "if \"Hel\" in str:\n",
    "    print(\"yes\")\n",
    "else:\n",
    "    print(\"No\")"
   ]
  },
  {
   "cell_type": "code",
   "execution_count": 5,
   "metadata": {},
   "outputs": [
    {
     "name": "stdout",
     "output_type": "stream",
     "text": [
      "True\n"
     ]
    }
   ],
   "source": [
    "#comparison operators on string\n",
    "#strings are compared on the basis of ASCII value\n",
    "\n",
    "a = \"abce\">=\"abcdef\"\n",
    "print(a)"
   ]
  },
  {
   "cell_type": "code",
   "execution_count": 12,
   "metadata": {},
   "outputs": [
    {
     "name": "stdout",
     "output_type": "stream",
     "text": [
      "['My', 'name', 'is', 'Nikhil']\n"
     ]
    }
   ],
   "source": [
    "#OPERATIONS ON STRINGS\n",
    "\n",
    "#split\n",
    "str = \"My name is Nikhil\"\n",
    "li = str.split(\" \")\n",
    "print(li)\n",
    "\n"
   ]
  },
  {
   "cell_type": "code",
   "execution_count": 15,
   "metadata": {},
   "outputs": [
    {
     "name": "stdout",
     "output_type": "stream",
     "text": [
      "My name is rathore\n"
     ]
    }
   ],
   "source": [
    "#replace\n",
    "#to replace,will have to store somewhere\n",
    "str = \"My name is nikhil\"\n",
    "li = str.replace(\"nikhil\", \"rathore\")\n",
    "print(li)"
   ]
  },
  {
   "cell_type": "code",
   "execution_count": 2,
   "metadata": {},
   "outputs": [
    {
     "name": "stdout",
     "output_type": "stream",
     "text": [
      "3\n"
     ]
    }
   ],
   "source": [
    "#find\n",
    "#it finds substring in a string\n",
    "\n",
    "str =\"my name is nikhil\"\n",
    "index = str.find(\"na\")\n",
    "print(index)"
   ]
  },
  {
   "cell_type": "raw",
   "metadata": {},
   "source": [
    "#upper\n",
    "#lower\n",
    "#startswith\n"
   ]
  },
  {
   "cell_type": "code",
   "execution_count": 56,
   "metadata": {},
   "outputs": [
    {
     "name": "stdout",
     "output_type": "stream",
     "text": [
      "abcda\n",
      "ebcde\n"
     ]
    }
   ],
   "source": [
    "#replace char in string\n",
    "\n",
    "str = input()\n",
    "li = str.replace(\"a\", \"e\")\n",
    "print(li)"
   ]
  },
  {
   "cell_type": "code",
   "execution_count": 19,
   "metadata": {},
   "outputs": [
    {
     "name": "stdout",
     "output_type": "stream",
     "text": [
      "zbbzdzbbzjzbbz\n"
     ]
    }
   ],
   "source": [
    "#replace char in string using function\n",
    "\n",
    "def replace(str, char1, char2):\n",
    "    newStr = \"\"\n",
    "    for char in str:\n",
    "        if (char == char1):\n",
    "            newStr += char2\n",
    "        else:\n",
    "            newStr += char\n",
    "    return newStr\n",
    "\n",
    "str = \"abbadabbajabba\"\n",
    "str = replace(str,'a','z')\n",
    "print(str)"
   ]
  },
  {
   "cell_type": "code",
   "execution_count": 22,
   "metadata": {},
   "outputs": [
    {
     "name": "stdout",
     "output_type": "stream",
     "text": [
      "7 4 9 7\n"
     ]
    }
   ],
   "source": [
    "#count vowels, consonants, digits,special characters in string\n",
    "\n",
    "def countInStrings(str):\n",
    "    v,c,d,s = 0,0,0,0\n",
    "    for char in str:\n",
    "        \n",
    "        if ((char>='a' and char<='z') or (char>='A' and char<='Z')):\n",
    "            char = char.lower()\n",
    "            if(char=='a' or char=='e' or char=='i' or char=='o' or char=='u'):\n",
    "                v += 1\n",
    "            else:\n",
    "                c += 1\n",
    "        \n",
    "        elif(char>='0' and char<='9'):\n",
    "            d += 1\n",
    "        else:\n",
    "            s += 1\n",
    "            \n",
    "    return v,c,d,s\n",
    "\n",
    "str = \"aeioulovely123456789@#$%^&*\"\n",
    "v,c,d,s = countInStrings(str)\n",
    "print(v,c,d,s)"
   ]
  },
  {
   "cell_type": "code",
   "execution_count": 12,
   "metadata": {},
   "outputs": [
    {
     "name": "stdout",
     "output_type": "stream",
     "text": [
      "abcdcba\n",
      "true\n"
     ]
    }
   ],
   "source": [
    "#string is palindrome or not\n",
    "txt = input()\n",
    "rev = txt[::-1]\n",
    "if (rev == txt):\n",
    "    print(\"true\")\n",
    "else:\n",
    "    print(\"false\")\n"
   ]
  },
  {
   "cell_type": "code",
   "execution_count": 4,
   "metadata": {},
   "outputs": [
    {
     "name": "stdout",
     "output_type": "stream",
     "text": [
      "we re\n",
      "ew er "
     ]
    }
   ],
   "source": [
    "#ASSIGNMENT\n",
    "#REVERSE EACH WORD\n",
    "name = input()\n",
    "for i in name.split():\n",
    "    print(i[::-1], end=' ')"
   ]
  },
  {
   "cell_type": "code",
   "execution_count": 34,
   "metadata": {},
   "outputs": [
    {
     "name": "stdout",
     "output_type": "stream",
     "text": [
      "abcde\n",
      "baedc\n",
      "true\n"
     ]
    }
   ],
   "source": [
    "#check permutation\n",
    "\n",
    "def checkPermutation(str1, str2):\n",
    "    \n",
    "    n1 = len(str1)\n",
    "    n2 = len(str2)\n",
    "    if(n1 != n2):\n",
    "        return False\n",
    "    \n",
    "    #sorting both strings\n",
    "    a = sorted(str1)\n",
    "    str1 = \"\".join(a)\n",
    "    b = sorted(str2)\n",
    "    str2 = \"\".join(b)\n",
    "\n",
    "    \n",
    "    #comparing sorted strings\n",
    "    for i in range(n1):\n",
    "        for j in range(n2):\n",
    "            if (str1[i] == str2[i]):\n",
    "                return True\n",
    "    return False\n",
    "\n",
    "str1 = input()\n",
    "str2 = input()\n",
    "if (checkPermutation(str1, str2)):\n",
    "    print(\"true\")\n",
    "else:\n",
    "    print(\"false\")\n",
    "    \n",
    "\n",
    "\n",
    "\n",
    "                \n",
    "        \n"
   ]
  },
  {
   "cell_type": "code",
   "execution_count": 55,
   "metadata": {},
   "outputs": [
    {
     "name": "stdout",
     "output_type": "stream",
     "text": [
      "aabbbcc\n",
      "abc\n"
     ]
    }
   ],
   "source": [
    "#REMOVE CONSECUTIVE DUPLICATE NUMBERS\n",
    "\n",
    "import itertools\n",
    "def remcondup(str):\n",
    "    return(''.join(i for i, _ in itertools.groupby(str)))\n",
    "\n",
    "str = input()\n",
    "print(remcondup(str))"
   ]
  },
  {
   "cell_type": "code",
   "execution_count": 58,
   "metadata": {},
   "outputs": [
    {
     "name": "stdout",
     "output_type": "stream",
     "text": [
      "welcome\n",
      "e\n",
      "wlcom\n"
     ]
    }
   ],
   "source": [
    "#remove character\n",
    "\n",
    "str_1 = input()\n",
    "ele_1 = input()\n",
    "li_1 = str_1.replace(ele_1, \"\")\n",
    "print(li_1)"
   ]
  }
 ],
 "metadata": {
  "kernelspec": {
   "display_name": "Python 3",
   "language": "python",
   "name": "python3"
  },
  "language_info": {
   "codemirror_mode": {
    "name": "ipython",
    "version": 3
   },
   "file_extension": ".py",
   "mimetype": "text/x-python",
   "name": "python",
   "nbconvert_exporter": "python",
   "pygments_lexer": "ipython3",
   "version": "3.6.4"
  }
 },
 "nbformat": 4,
 "nbformat_minor": 2
}
