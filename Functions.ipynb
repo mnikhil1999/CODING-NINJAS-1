{
 "cells": [
  {
   "cell_type": "code",
   "execution_count": 16,
   "metadata": {},
   "outputs": [
    {
     "name": "stdout",
     "output_type": "stream",
     "text": [
      "5\n",
      "2\n",
      "10\n"
     ]
    }
   ],
   "source": [
    "#calculating nCr\n",
    "\n",
    "\n",
    "def fact(a):\n",
    "    a_fact = 1\n",
    "    for i in range(1, a+1):\n",
    "        a_fact = a_fact * i\n",
    "    return a_fact\n",
    "n = int(input())\n",
    "r = int(input())\n",
    "n_fact = fact(n)\n",
    "r_fact = fact(r)\n",
    "n_r_fact = fact(n-r)\n",
    "cal = n_fact//(r_fact*n_r_fact)\n",
    "print(cal)\n"
   ]
  },
  {
   "cell_type": "code",
   "execution_count": 7,
   "metadata": {},
   "outputs": [
    {
     "data": {
      "text/plain": [
       "120"
      ]
     },
     "execution_count": 7,
     "metadata": {},
     "output_type": "execute_result"
    }
   ],
   "source": [
    "a = fact(4)\n",
    "a"
   ]
  },
  {
   "cell_type": "code",
   "execution_count": 17,
   "metadata": {},
   "outputs": [
    {
     "name": "stdout",
     "output_type": "stream",
     "text": [
      "5\n",
      "2\n",
      "10\n"
     ]
    }
   ],
   "source": [
    "n = int(input())\n",
    "r = int(input())\n",
    "n_fact = fact(n)\n",
    "r_fact = fact(r)\n",
    "n_r_fact = fact(n-r)\n",
    "cal = n_fact//(r_fact*n_r_fact)\n",
    "print(cal)"
   ]
  },
  {
   "cell_type": "code",
   "execution_count": 31,
   "metadata": {},
   "outputs": [
    {
     "name": "stdout",
     "output_type": "stream",
     "text": [
      "5\n",
      "True\n"
     ]
    }
   ],
   "source": [
    "#check if number is prime or not\n",
    "\n",
    "def isprime(n):\n",
    "    for i in range(2,n):\n",
    "        if (n%i==0):\n",
    "            break\n",
    "    else:\n",
    "        return True\n",
    "    return False\n",
    "  \n",
    "a = int(input())\n",
    "print(isprime(a))\n",
    "\n",
    "            "
   ]
  },
  {
   "cell_type": "code",
   "execution_count": 38,
   "metadata": {},
   "outputs": [
    {
     "name": "stdout",
     "output_type": "stream",
     "text": [
      "100\n",
      "2\n",
      "3\n",
      "5\n",
      "7\n",
      "11\n",
      "13\n",
      "17\n",
      "19\n",
      "23\n",
      "29\n",
      "31\n",
      "37\n",
      "41\n",
      "43\n",
      "47\n",
      "53\n",
      "59\n",
      "61\n",
      "67\n",
      "71\n",
      "73\n",
      "79\n",
      "83\n",
      "89\n",
      "97\n"
     ]
    }
   ],
   "source": [
    "#print all prime numbers till the last number given, using above function\n",
    "def primefrom2ton(n):\n",
    "    for i in range(2,n+1):\n",
    "        is_i_prime = isprime(i)\n",
    "        if(is_i_prime):\n",
    "            print(i)\n",
    "a = int(input())\n",
    "primefrom2ton(a)\n"
   ]
  },
  {
   "cell_type": "code",
   "execution_count": 3,
   "metadata": {},
   "outputs": [
    {
     "name": "stdout",
     "output_type": "stream",
     "text": [
      "20\n",
      "2\n",
      "3\n",
      "5\n",
      "7\n",
      "11\n",
      "13\n",
      "17\n",
      "19\n"
     ]
    }
   ],
   "source": [
    "def isprime(n):\n",
    "    for i in range(2,n):\n",
    "        if (n%i==0):\n",
    "            break\n",
    "    else:\n",
    "        return True\n",
    "    return False\n",
    "\n",
    "\n",
    "def primefrom2ton(n):\n",
    "    for i in range(2,n+1):\n",
    "        is_i_prime = isprime(i)\n",
    "        if(is_i_prime):\n",
    "            print(i)\n",
    "a = int(input())\n",
    "primefrom2ton(a)\n"
   ]
  },
  {
   "cell_type": "code",
   "execution_count": 44,
   "metadata": {},
   "outputs": [
    {
     "data": {
      "text/plain": [
       "15"
      ]
     },
     "execution_count": 44,
     "metadata": {},
     "output_type": "execute_result"
    }
   ],
   "source": [
    "def func(a):\n",
    "    a = a + 10\n",
    "    return a\n",
    "a = 5\n",
    "func(a)\n"
   ]
  },
  {
   "cell_type": "code",
   "execution_count": 3,
   "metadata": {},
   "outputs": [
    {
     "name": "stdout",
     "output_type": "stream",
     "text": [
      "10\n",
      "12\n"
     ]
    }
   ],
   "source": [
    "#scope of variable\n",
    "#local -  inside a fn\n",
    "#global - outside a fn\n",
    "\n",
    "a1 = 10\n",
    "def f1():\n",
    "    b1 = 12#local variable\n",
    "    print(b1)\n",
    "print(a1)\n",
    "f1()\n",
    "# cant print a local variable outside the function print(b1)"
   ]
  },
  {
   "cell_type": "code",
   "execution_count": 5,
   "metadata": {},
   "outputs": [
    {
     "name": "stdout",
     "output_type": "stream",
     "text": [
      "10\n",
      "12\n",
      "10\n"
     ]
    }
   ],
   "source": [
    "a2 = 10\n",
    "def f2():\n",
    "    b2 = 12#local variable\n",
    "    print(b2)\n",
    "    print(a2)\n",
    "print(a2)\n",
    "f2()\n",
    "# can print print a global variable inside a function"
   ]
  },
  {
   "cell_type": "code",
   "execution_count": 8,
   "metadata": {},
   "outputs": [
    {
     "name": "stdout",
     "output_type": "stream",
     "text": [
      "10\n",
      "12\n",
      "10\n"
     ]
    }
   ],
   "source": [
    "\n",
    "def f3():\n",
    "    b3 = 12#local variable\n",
    "    print(b3)\n",
    "    print(a3)\n",
    "    #print(c3) you can access any global variable defined before the function call\n",
    "a3 = 10\n",
    "print(a3)\n",
    "f3()\n",
    "#c3 = 20"
   ]
  },
  {
   "cell_type": "code",
   "execution_count": 10,
   "metadata": {},
   "outputs": [
    {
     "name": "stdout",
     "output_type": "stream",
     "text": [
      "13\n",
      "12\n",
      "13\n"
     ]
    }
   ],
   "source": [
    "a4 =13\n",
    "def f4():\n",
    "    a4 = 12\n",
    "    print(a4)\n",
    "print(a4)\n",
    "f4()\n",
    "print(a4) #global variable value will not change "
   ]
  },
  {
   "cell_type": "code",
   "execution_count": 11,
   "metadata": {},
   "outputs": [
    {
     "name": "stdout",
     "output_type": "stream",
     "text": [
      "13\n",
      "12\n",
      "12\n"
     ]
    }
   ],
   "source": [
    "a4 =13\n",
    "def f4():\n",
    "    global a4\n",
    "    a4 = 12\n",
    "    print(a4)\n",
    "print(a4)\n",
    "f4()\n",
    "print(a4) "
   ]
  },
  {
   "cell_type": "code",
   "execution_count": 3,
   "metadata": {},
   "outputs": [
    {
     "name": "stdout",
     "output_type": "stream",
     "text": [
      "9\n",
      "7\n"
     ]
    }
   ],
   "source": [
    "#range is not a function\n",
    "#print is a function\n",
    "\n",
    "\n",
    "#we can take 2 or 3 inputs using same fn\n",
    "#when we will give only two inputs, by default c=0\n",
    "def sum(a, b, c=0):\n",
    "    \n",
    "    return a + b + c\n",
    "print(sum(2, 3, 4))\n",
    "print(sum(3, 4))"
   ]
  },
  {
   "cell_type": "code",
   "execution_count": null,
   "metadata": {},
   "outputs": [],
   "source": [
    "#all non default arguments should be before default arguments"
   ]
  },
  {
   "cell_type": "code",
   "execution_count": 27,
   "metadata": {},
   "outputs": [
    {
     "name": "stdout",
     "output_type": "stream",
     "text": [
      "10\n",
      "200\n",
      "20\n"
     ]
    }
   ],
   "source": [
    "def temp(s, e, w) :\n",
    "     for i in range(s, e+1,w):\n",
    "           c = ((s-32)*5/9)\n",
    "           print(s, int(c))\n",
    "           s = s+w\n",
    "s = int(input())\n",
    "e = int(input())\n",
    "w = int(input())\n",
    "temp=(s, e, w)"
   ]
  },
  {
   "cell_type": "code",
   "execution_count": 14,
   "metadata": {},
   "outputs": [
    {
     "name": "stdout",
     "output_type": "stream",
     "text": [
      "10\n",
      "200\n",
      "20\n",
      "10 -12\n",
      "30 -1\n",
      "50 10\n",
      "70 21\n",
      "90 32\n",
      "110 43\n",
      "130 54\n",
      "150 65\n",
      "170 76\n",
      "190 87\n"
     ]
    }
   ],
   "source": [
    "#fahrenheit to celcius table\n",
    "s = int(input())\n",
    "e = int(input())\n",
    "w = int(input())\n",
    "for i in range(s, e+1, w):\n",
    "    c = ((s-32)*5/9)\n",
    "    print(s, int(c))\n",
    "    s = s+w"
   ]
  },
  {
   "cell_type": "code",
   "execution_count": 23,
   "metadata": {},
   "outputs": [
    {
     "name": "stdout",
     "output_type": "stream",
     "text": [
      "1\n",
      "false\n"
     ]
    }
   ],
   "source": [
    "#if the number is fibonacci or not\n",
    "5\n",
    "n = int(input())\n",
    "for i in range(1, n+1):\n",
    "    if n == ((n-1)+(n-2)):\n",
    "        print(\"true\")\n",
    "        break\n",
    "else:\n",
    "    print(\"false\")\n",
    "    "
   ]
  },
  {
   "cell_type": "code",
   "execution_count": 2,
   "metadata": {},
   "outputs": [
    {
     "name": "stdout",
     "output_type": "stream",
     "text": [
      "123\n",
      "false\n"
     ]
    }
   ],
   "source": [
    "#check if the number is Palindrome or not\n",
    "n = int(input())\n",
    "rev = 0\n",
    "x = n\n",
    "while (n>0):\n",
    "    rev = (rev*10)+(n%10)\n",
    "    n = n//10\n",
    "if(x == rev):\n",
    "    print(\"true\")\n",
    "else:\n",
    "    print(\"false\")"
   ]
  },
  {
   "cell_type": "code",
   "execution_count": 6,
   "metadata": {},
   "outputs": [
    {
     "name": "stdout",
     "output_type": "stream",
     "text": [
      "2\n",
      "true\n"
     ]
    }
   ],
   "source": [
    "#number is fibonacci or not\n",
    "# 5n*n+4 or 5n*n-4 should be perfect square\n",
    "\n",
    "import math\n",
    "def perfectsq(x):\n",
    "    s = int(math.sqrt(x))\n",
    "    return s*s == x\n",
    "n = int(input())\n",
    "result1 = 5*(n*n)+4\n",
    "result2 = 5*(n*n)-4\n",
    "\n",
    "if perfectsq(result1) or perfectsq(result2):\n",
    "    print(\"true\")\n",
    "else:\n",
    "    print(\"false\")"
   ]
  },
  {
   "cell_type": "code",
   "execution_count": 3,
   "metadata": {},
   "outputs": [
    {
     "name": "stdout",
     "output_type": "stream",
     "text": [
      "153\n",
      "true\n"
     ]
    }
   ],
   "source": [
    "a = int(input())\n",
    "def count_digit(n):\n",
    "    count = 0\n",
    "    while n > 0:\n",
    "        count += 1\n",
    "        n //= 10\n",
    "    return count\n",
    "\n",
    "def is_armstrong(n):\n",
    "    given = n\n",
    "    result = 0\n",
    "    digit = count_digit(n)\n",
    "    while n > 0:\n",
    "        reminder = n % 10\n",
    "        result += reminder ** digit\n",
    "        n //= 10 \n",
    "    return given == result\n",
    "if is_armstrong(a):\n",
    "    print(\"true\")\n",
    "else:\n",
    "    print(\"false\")"
   ]
  }
 ],
 "metadata": {
  "kernelspec": {
   "display_name": "Python 3",
   "language": "python",
   "name": "python3"
  },
  "language_info": {
   "codemirror_mode": {
    "name": "ipython",
    "version": 3
   },
   "file_extension": ".py",
   "mimetype": "text/x-python",
   "name": "python",
   "nbconvert_exporter": "python",
   "pygments_lexer": "ipython3",
   "version": "3.6.4"
  }
 },
 "nbformat": 4,
 "nbformat_minor": 2
}
