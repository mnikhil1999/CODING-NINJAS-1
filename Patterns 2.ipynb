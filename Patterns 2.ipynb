{
 "cells": [
  {
   "cell_type": "code",
   "execution_count": 3,
   "metadata": {},
   "outputs": [
    {
     "name": "stdout",
     "output_type": "stream",
     "text": [
      "4\n",
      "4444\n",
      "333\n",
      "22\n",
      "1\n"
     ]
    }
   ],
   "source": [
    "#INVERTED TRIANGLE\n",
    "n = int(input())\n",
    "i=n\n",
    "while(i>=1):\n",
    "    j=1\n",
    "    while(j<=i):\n",
    "        print(i,end='')\n",
    "        j=j+1\n",
    "    print()\n",
    "    i=i-1"
   ]
  },
  {
   "cell_type": "markdown",
   "metadata": {},
   "source": [
    "MIRROR TRIANGLE\n",
    "   *\n",
    "  **\n",
    " ***\n",
    "****"
   ]
  },
  {
   "cell_type": "code",
   "execution_count": 8,
   "metadata": {},
   "outputs": [
    {
     "name": "stdout",
     "output_type": "stream",
     "text": [
      "4\n",
      "   *\n",
      "  **\n",
      " ***\n",
      "****\n"
     ]
    }
   ],
   "source": [
    "n = int(input())\n",
    "i = 1\n",
    "while(i<=n):\n",
    "    spaces = 1 \n",
    "    while(spaces <= n-i):\n",
    "        print(\" \",end='')\n",
    "        spaces = spaces + 1\n",
    "    star = 1\n",
    "    while(star <= i):\n",
    "        print(\"*\",end='')\n",
    "        star = star + 1\n",
    "    print()\n",
    "    i = i + 1"
   ]
  },
  {
   "cell_type": "markdown",
   "metadata": {},
   "source": [
    "MIRROR NUMBER\n",
    "   1\n",
    "  12\n",
    " 123\n",
    "1234"
   ]
  },
  {
   "cell_type": "code",
   "execution_count": 1,
   "metadata": {},
   "outputs": [
    {
     "name": "stdout",
     "output_type": "stream",
     "text": [
      "4\n",
      "   1\n",
      "  12\n",
      " 123\n",
      "1234\n"
     ]
    }
   ],
   "source": [
    "n = int(input())\n",
    "i = 1\n",
    "while (i <= n):\n",
    "    spaces = 1\n",
    "    while (spaces <= n-i):\n",
    "        print(\" \",end='')\n",
    "        spaces = spaces + 1\n",
    "    k = 1\n",
    "    while(k<=i):\n",
    "        print(k, end='')\n",
    "        k = k + 1\n",
    "    print()\n",
    "    i = i + 1"
   ]
  },
  {
   "cell_type": "markdown",
   "metadata": {},
   "source": [
    "ISOSCELES TRIANGLE\n"
   ]
  },
  {
   "cell_type": "markdown",
   "metadata": {},
   "source": [
    "   1\n",
    "  121\n",
    " 12321\n",
    "1234321"
   ]
  },
  {
   "cell_type": "code",
   "execution_count": 4,
   "metadata": {},
   "outputs": [
    {
     "name": "stdout",
     "output_type": "stream",
     "text": [
      "4\n",
      "   1\n",
      "  121\n",
      " 12321\n",
      "1234321\n"
     ]
    }
   ],
   "source": [
    "n = int(input())\n",
    "i = 1\n",
    "while(i<=n):\n",
    "    #spaces\n",
    "    spaces = 1\n",
    "    while (spaces <= n-i):\n",
    "        print(\" \",end='')\n",
    "        spaces = spaces + 1\n",
    "    #increase \n",
    "    k = 1\n",
    "    while(k<=i):\n",
    "        print(k, end='')\n",
    "        k = k+1\n",
    "    #decrease\n",
    "    k = i-1\n",
    "    while(k>=1):\n",
    "        print(k,end='')\n",
    "        k = k-1\n",
    "    print()\n",
    "    i=i+1\n",
    "        "
   ]
  },
  {
   "cell_type": "code",
   "execution_count": 2,
   "metadata": {},
   "outputs": [
    {
     "name": "stdout",
     "output_type": "stream",
     "text": [
      "4\n",
      "   *\n",
      "  ***\n",
      " *****\n",
      "*******\n"
     ]
    }
   ],
   "source": [
    "n = int(input())\n",
    "i = 1\n",
    "while(i<=n):\n",
    "    spaces = 1\n",
    "    while(spaces <= n-i):\n",
    "        print(\" \",end='')\n",
    "        spaces = spaces + 1\n",
    "    star = 1\n",
    "    while(star <= i+i-1 ):\n",
    "        print(\"*\",end='')\n",
    "        star = star + 1\n",
    "    print()\n",
    "    i = i +1"
   ]
  },
  {
   "cell_type": "code",
   "execution_count": 47,
   "metadata": {},
   "outputs": [
    {
     "name": "stdout",
     "output_type": "stream",
     "text": [
      "4\n",
      "   1\n",
      "  232\n",
      " 34543\n",
      "4567654\n"
     ]
    }
   ],
   "source": [
    "n = int(input())\n",
    "i = 1\n",
    "while(i<=n):\n",
    "    spaces = 1\n",
    "    while (spaces <= n-i):\n",
    "        print(\" \",end='')\n",
    "        spaces = spaces + 1\n",
    "    j = 1\n",
    "    k = i\n",
    "    while (j<=i):\n",
    "        print(k,end='')\n",
    "        j=j+1\n",
    "        k=k+1\n",
    "    #decrease\n",
    "    j = 1\n",
    "    k = 2*i-2\n",
    "    while(j <= i-1):\n",
    "        print(k,end='')\n",
    "        k = k-1\n",
    "        j = j+1\n",
    "        \n",
    "    print()\n",
    "    i = i + 1\n",
    "    \n",
    "        \n",
    "    "
   ]
  },
  {
   "cell_type": "raw",
   "metadata": {},
   "source": [
    "  *\n",
    " ***\n",
    "*****\n",
    " ***\n",
    "  *"
   ]
  },
  {
   "cell_type": "code",
   "execution_count": 28,
   "metadata": {
    "scrolled": true
   },
   "outputs": [
    {
     "name": "stdout",
     "output_type": "stream",
     "text": [
      "5\n",
      "  *\n",
      " ***\n",
      "*****\n",
      " ***\n",
      "  *\n"
     ]
    }
   ],
   "source": [
    "n = int(input())\n",
    "n1 = (n + 1) // 2\n",
    "n2 = n // 2\n",
    "#First Half\n",
    "i = 1\n",
    "while i <= n1:\n",
    "    spaces = 1\n",
    "    while spaces <= (n1 - i) :\n",
    "        print(\" \", end = \"\")\n",
    "        spaces = spaces + 1\n",
    "    star = 1\n",
    "    while star <= (2 * i) - 1 :\n",
    "        print(\"*\", end = \"\")\n",
    "        star = star + 1\n",
    "    print()\n",
    "    i = i + 1\n",
    "#Second Half\n",
    "i = n2\n",
    "while i >= 1 :\n",
    "    spaces = 1\n",
    "    while spaces <= (n2 - i + 1) :\n",
    "        print(\" \", end = \"\")\n",
    "        spaces = spaces + 1\n",
    "    star = 1\n",
    "    while star <= (2 * i) - 1 :\n",
    "        print(\"*\", end = \"\")\n",
    "        star = star + 1\n",
    "    print()\n",
    "    i = i - 1"
   ]
  },
  {
   "cell_type": "code",
   "execution_count": 11,
   "metadata": {
    "scrolled": true
   },
   "outputs": [
    {
     "name": "stdout",
     "output_type": "stream",
     "text": [
      "5\n",
      "1        1\n",
      "12      21\n",
      "123    321\n",
      "1234  4321\n",
      "1234554321\n"
     ]
    }
   ],
   "source": [
    "n = int(input())\n",
    "for i in range(1,n+1):\n",
    "    for j in range(1,i+1):\n",
    "        print(j,end='')\n",
    "    for j in range(0,2*n-2*i):\n",
    "        print(\" \",end='')\n",
    "    for j in range(i,0,-1):\n",
    "        print(j,end='')\n",
    "    print('')"
   ]
  },
  {
   "cell_type": "code",
   "execution_count": 13,
   "metadata": {},
   "outputs": [
    {
     "name": "stdout",
     "output_type": "stream",
     "text": [
      "3\n",
      "*00*00*\n",
      "0*0*0*0\n",
      "00***00\n"
     ]
    }
   ],
   "source": [
    "lines = int(input()) \n",
    "i=1  \n",
    "j=1  \n",
    "while i<=lines:  #this loop is used to print lines  \n",
    "    j=1  \n",
    "    while j<=lines:      #this loop is used to print lines  \n",
    "        if i==j:  \n",
    "            print(\"*\", end='', flush=True)  \n",
    "        else :  \n",
    "            print(\"0\", end='', flush=True)  \n",
    "        j=j+1  \n",
    "    j=j-1;  \n",
    "    print(\"*\", end='', flush=True)  \n",
    "    while j>=1:  #this loop is used to print lines  \n",
    "        if i==j:  \n",
    "            print(\"*\", end='', flush=True)  \n",
    "        else :  \n",
    "            print(\"0\", end='', flush=True)  \n",
    "        j=j-1  \n",
    "    print(\"\");  \n",
    "    i=i+1  "
   ]
  },
  {
   "cell_type": "code",
   "execution_count": 16,
   "metadata": {},
   "outputs": [
    {
     "name": "stdout",
     "output_type": "stream",
     "text": [
      "4\n",
      "   1\n",
      "  212\n",
      " 32123\n",
      "4321234\n"
     ]
    }
   ],
   "source": [
    "n = int(input())\n",
    "\n",
    "# Generating pattern\n",
    "for i in range(1,n+1):\n",
    "    \n",
    "    # for space\n",
    "    for j in range(1, n+1-i):\n",
    "        print(' ', end='')\n",
    "    \n",
    "    # for decreasing pattern\n",
    "    for j in range(i,0,-1):\n",
    "        print(j, end='')\n",
    "    \n",
    "    # for increasing pattern \n",
    "    for j in range(2,i+1):\n",
    "        print(j, end='')\n",
    "    \n",
    "    # Moving to next line\n",
    "    print()"
   ]
  },
  {
   "cell_type": "code",
   "execution_count": 3,
   "metadata": {},
   "outputs": [
    {
     "name": "stdout",
     "output_type": "stream",
     "text": [
      "7\n",
      "* \n",
      " * * \n",
      "  * * * \n",
      "   * * * * \n",
      "  * * * \n",
      " * * \n",
      "* \n"
     ]
    }
   ],
   "source": [
    "n = int(input())\n",
    "n1 = (n + 1) // 2\n",
    "n2 = n-n1\n",
    "#First Half\n",
    "i = 1\n",
    "while i <= n1:\n",
    "    spaces = 1\n",
    "    while spaces <= (i-1) :\n",
    "        print(\" \", end = \"\")\n",
    "        spaces = spaces + 1\n",
    "    star = 1\n",
    "    while star <= i :\n",
    "        print(\"*\", end = \" \")\n",
    "        star = star + 1\n",
    "    print()\n",
    "    i = i + 1\n",
    "#Second Half\n",
    "i = 1\n",
    "while i <= n2 :\n",
    "    spaces = 1\n",
    "    while spaces <= (n2 - i) :\n",
    "        print(\" \", end = \"\")\n",
    "        spaces = spaces + 1\n",
    "    star = 1\n",
    "    while star <= (n2-i+1) :\n",
    "        print(\"*\", end = \" \")\n",
    "        star = star + 1\n",
    "    print()\n",
    "    i = i + 1\n"
   ]
  }
 ],
 "metadata": {
  "kernelspec": {
   "display_name": "Python 3",
   "language": "python",
   "name": "python3"
  },
  "language_info": {
   "codemirror_mode": {
    "name": "ipython",
    "version": 3
   },
   "file_extension": ".py",
   "mimetype": "text/x-python",
   "name": "python",
   "nbconvert_exporter": "python",
   "pygments_lexer": "ipython3",
   "version": "3.6.4"
  }
 },
 "nbformat": 4,
 "nbformat_minor": 2
}
