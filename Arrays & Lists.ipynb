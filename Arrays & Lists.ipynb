{
 "cells": [
  {
   "cell_type": "raw",
   "metadata": {},
   "source": [
    "#array can store data of same type(homogeneous)\n",
    "#list can store data of different type(heterogenous\n",
    "\n",
    "append is used to add an element at the last    name.append()\n",
    "\n",
    "insert inserts at particular index, if the index is not vacant, it will automatically adds the element at the last\n",
    "\n",
    "extend is used to add multiple elements at one go\n",
    "remove = removes particular element\n",
    "\n",
    "pop = deletes from last\n",
    "pop(index) = deletes from particular index\n",
    "\n",
    "list actually stores references of elements\n",
    "all references are stored continuously\n",
    "list maintains continuity using re-sizing\n"
   ]
  },
  {
   "cell_type": "code",
   "execution_count": 6,
   "metadata": {},
   "outputs": [],
   "source": [
    "li = [1, 2, \"Nikhil\", 3, 4, \"Kumar\"]"
   ]
  },
  {
   "cell_type": "code",
   "execution_count": 7,
   "metadata": {},
   "outputs": [
    {
     "data": {
      "text/plain": [
       "[1, 2, 'Nikhil', 3, 4, 'Kumar']"
      ]
     },
     "execution_count": 7,
     "metadata": {},
     "output_type": "execute_result"
    }
   ],
   "source": [
    "li"
   ]
  },
  {
   "cell_type": "code",
   "execution_count": 13,
   "metadata": {},
   "outputs": [
    {
     "name": "stdout",
     "output_type": "stream",
     "text": [
      "1\n",
      "2\n",
      "Nikhil\n",
      "3\n",
      "4\n",
      "Kumar\n"
     ]
    }
   ],
   "source": [
    "#for printing all the elements of the list using index\n",
    "for i in range(len(li)):\n",
    "    print(li[i])"
   ]
  },
  {
   "cell_type": "code",
   "execution_count": 15,
   "metadata": {},
   "outputs": [
    {
     "name": "stdout",
     "output_type": "stream",
     "text": [
      "1\n",
      "2\n",
      "Nikhil\n",
      "3\n",
      "4\n",
      "Kumar\n"
     ]
    }
   ],
   "source": [
    "#for accessing all the elements of a list\n",
    "for ele in li:\n",
    "    print(ele)"
   ]
  },
  {
   "cell_type": "code",
   "execution_count": 16,
   "metadata": {},
   "outputs": [
    {
     "name": "stdout",
     "output_type": "stream",
     "text": [
      "Nikhil\n",
      "3\n",
      "4\n",
      "Kumar\n"
     ]
    }
   ],
   "source": [
    "#slicing\n",
    "#for starting from particular index\n",
    "for ele in li[2:]:\n",
    "    print(ele)"
   ]
  },
  {
   "cell_type": "code",
   "execution_count": 6,
   "metadata": {},
   "outputs": [
    {
     "name": "stdout",
     "output_type": "stream",
     "text": [
      "2\n",
      "3\n",
      "4\n",
      "5\n",
      "6\n"
     ]
    }
   ],
   "source": [
    "#line separated input\n",
    "# we are making a list by getting inputs from user\n",
    "list = []\n",
    "for i in range(n):\n",
    "    current = int(input())\n",
    "    list.append(current)"
   ]
  },
  {
   "cell_type": "code",
   "execution_count": 4,
   "metadata": {},
   "outputs": [
    {
     "name": "stdout",
     "output_type": "stream",
     "text": [
      "5\n",
      "1\n",
      "2\n",
      "3\n",
      "4\n",
      "5\n",
      "4\n"
     ]
    }
   ],
   "source": [
    "#output\n",
    "n = int(input())\n",
    "li = []\n",
    "for i in range(n):\n",
    "    li.append(input())\n",
    "print(i)"
   ]
  },
  {
   "cell_type": "code",
   "execution_count": 7,
   "metadata": {},
   "outputs": [
    {
     "data": {
      "text/plain": [
       "['1', '2', '3', '4', '5']"
      ]
     },
     "execution_count": 7,
     "metadata": {},
     "output_type": "execute_result"
    }
   ],
   "source": [
    "li"
   ]
  },
  {
   "cell_type": "code",
   "execution_count": 9,
   "metadata": {},
   "outputs": [
    {
     "name": "stdout",
     "output_type": "stream",
     "text": [
      "3\n",
      "1 2 3 4 5\n",
      "1\n",
      "2\n",
      "3\n",
      "4\n",
      "5\n"
     ]
    }
   ],
   "source": [
    "#space separated input\n",
    "n = int(input())\n",
    "list = [int(x) for x in input().split()]\n",
    "for ele in list:\n",
    "    print(ele)"
   ]
  },
  {
   "cell_type": "code",
   "execution_count": 5,
   "metadata": {},
   "outputs": [
    {
     "name": "stdout",
     "output_type": "stream",
     "text": [
      "4\n",
      "1 2 3 4\n",
      "10\n"
     ]
    }
   ],
   "source": [
    "#ASSIGNMENT QUESTION\n",
    "#sum of an array\n",
    "#no of elements and the array will be given by user\n",
    "\n",
    "n = int(input())\n",
    "list = [int(x) for x in input().split()]\n",
    "length = len(list)\n",
    "sum = 0\n",
    "for i in range(0,length):\n",
    "    sum = sum + list[i]\n",
    "print(sum)\n"
   ]
  },
  {
   "cell_type": "code",
   "execution_count": 14,
   "metadata": {},
   "outputs": [
    {
     "name": "stdout",
     "output_type": "stream",
     "text": [
      "1 3 6 8 9\n",
      "[1, 3, 6, 8, 9]\n"
     ]
    }
   ],
   "source": [
    "li = [int(x) for x in input().split()]\n",
    "print(li)"
   ]
  },
  {
   "cell_type": "code",
   "execution_count": 16,
   "metadata": {},
   "outputs": [
    {
     "name": "stdout",
     "output_type": "stream",
     "text": [
      "1 3 6 8 9\n",
      "['1', '3', '6', '8', '9']\n"
     ]
    }
   ],
   "source": [
    "#output question\n",
    "\n",
    "li = [x for x in input().split()]\n",
    "print(li)"
   ]
  },
  {
   "cell_type": "raw",
   "metadata": {},
   "source": [
    "LINEAR SEARCH"
   ]
  },
  {
   "cell_type": "code",
   "execution_count": 19,
   "metadata": {},
   "outputs": [
    {
     "name": "stdout",
     "output_type": "stream",
     "text": [
      "5\n",
      "1 2 3 4 5\n",
      "6\n",
      "-1\n"
     ]
    }
   ],
   "source": [
    "n = int(input())\n",
    "li = [int(x) for x in input().split()]\n",
    "ele = int(input())\n",
    "for i in range(len(li)):\n",
    "    if li[i] == ele:\n",
    "        print(i)\n",
    "        break\n",
    "else:\n",
    "    print(-1)\n"
   ]
  },
  {
   "cell_type": "code",
   "execution_count": 21,
   "metadata": {},
   "outputs": [
    {
     "name": "stdout",
     "output_type": "stream",
     "text": [
      "3\n"
     ]
    }
   ],
   "source": [
    "#LINEAR SEARCH THROUGH FUNCTION\n",
    "def linear_search(li, ele):\n",
    "    for i in range(len(li)):\n",
    "        if li[i] == ele:\n",
    "            return i\n",
    "    return -1\n",
    "li = [1,2,3,4,5]\n",
    "index = linear_search(li,4)\n",
    "print(index)"
   ]
  },
  {
   "cell_type": "raw",
   "metadata": {},
   "source": [
    "MUTABLE - when two lists have same reference, change in one will lead to change in other list as well\n",
    "LISTS ARE MUTABLE\n",
    "\n",
    "IMMUTABLE - \n",
    "VARIABLES ARE IMMUTABLE"
   ]
  },
  {
   "cell_type": "code",
   "execution_count": 22,
   "metadata": {},
   "outputs": [
    {
     "name": "stdout",
     "output_type": "stream",
     "text": [
      "2\n"
     ]
    }
   ],
   "source": [
    "#PASSING VARIABLE THROUGH FUNCTIONS\n",
    "def increment(a):\n",
    "    a = a+2\n",
    "    return a\n",
    "a = 2\n",
    "increment(a)\n",
    "print(a)"
   ]
  },
  {
   "cell_type": "code",
   "execution_count": 23,
   "metadata": {},
   "outputs": [
    {
     "name": "stdout",
     "output_type": "stream",
     "text": [
      "4\n"
     ]
    }
   ],
   "source": [
    "def increment(a):\n",
    "    a = a+2\n",
    "    return a\n",
    "a = 2\n",
    "a = increment(a)\n",
    "print(a)"
   ]
  },
  {
   "cell_type": "code",
   "execution_count": 26,
   "metadata": {},
   "outputs": [
    {
     "name": "stdout",
     "output_type": "stream",
     "text": [
      "[3, 2, 3, 4]\n"
     ]
    }
   ],
   "source": [
    "#PASSING LIST THROUGH FUNCTIONS\n",
    "def increment(li):\n",
    "    li[0] = li[0] + 2\n",
    "    return\n",
    "li = [1,2,3,4]\n",
    "increment(li)\n",
    "print(li)"
   ]
  },
  {
   "cell_type": "code",
   "execution_count": 27,
   "metadata": {},
   "outputs": [
    {
     "name": "stdout",
     "output_type": "stream",
     "text": [
      "[1, 2, 3, 4]\n"
     ]
    }
   ],
   "source": [
    "#if the reference of new is changed, the main will not be affected\n",
    "def increment(li):\n",
    "    li = [3,3,4]\n",
    "    return\n",
    "li = [1,2,3,4]\n",
    "increment(li)\n",
    "print(li)"
   ]
  },
  {
   "cell_type": "code",
   "execution_count": 28,
   "metadata": {},
   "outputs": [
    {
     "name": "stdout",
     "output_type": "stream",
     "text": [
      "[3, 3, 4]\n"
     ]
    }
   ],
   "source": [
    "#here the reference is same, so changes made in new will make a change in main as well\n",
    "def increment(li):\n",
    "    li = [3,3,4]\n",
    "    return li\n",
    "li = [1,2,3,4]\n",
    "li = increment(li)\n",
    "print(li)"
   ]
  },
  {
   "cell_type": "code",
   "execution_count": 29,
   "metadata": {},
   "outputs": [
    {
     "name": "stdout",
     "output_type": "stream",
     "text": [
      "[1, 4, 3, 4, 5]\n"
     ]
    }
   ],
   "source": [
    "#output\n",
    "def change(li):\n",
    "    li[1] = li[1] + 2\n",
    "li = [1,2,3,4,5]\n",
    "change(li)\n",
    "print(li)"
   ]
  },
  {
   "cell_type": "code",
   "execution_count": 30,
   "metadata": {},
   "outputs": [
    {
     "name": "stdout",
     "output_type": "stream",
     "text": [
      "[1, 4, 3, 4, 5]\n"
     ]
    }
   ],
   "source": [
    "#output\n",
    "def change(li):\n",
    "    li[1] = li[1] + 2\n",
    "    li = [3,3,3,4,5]\n",
    "li = [1,2,3,4,5]\n",
    "change(li)\n",
    "print(li)"
   ]
  },
  {
   "cell_type": "raw",
   "metadata": {},
   "source": [
    "REVERSE A LIST"
   ]
  },
  {
   "cell_type": "code",
   "execution_count": 31,
   "metadata": {},
   "outputs": [
    {
     "name": "stdout",
     "output_type": "stream",
     "text": [
      "[6, 5, 4, 3, 2, 1]\n"
     ]
    }
   ],
   "source": [
    "#REVERSE A LIST\n",
    "#for reversing we only need to go till half the length of list\n",
    "def reverse_list(li):\n",
    "    length = len(li)\n",
    "    for i in range(length//2):\n",
    "        li[i],li[length-i-1] = li[length-i-1],li[i]\n",
    "    \n",
    "li = [1,2,3,4,5,6]\n",
    "reverse_list(li)\n",
    "print(li)\n",
    "    "
   ]
  },
  {
   "cell_type": "code",
   "execution_count": 32,
   "metadata": {},
   "outputs": [
    {
     "name": "stdout",
     "output_type": "stream",
     "text": [
      "[5, 4, 3, 2, 1]\n"
     ]
    }
   ],
   "source": [
    "#reversing a list using different approach\n",
    "def reverse_list(li):\n",
    "    length = len(li)\n",
    "    for i in range(length//2):\n",
    "        li[i],li[-i-1] = li[-i-1],li[i]\n",
    "        \n",
    "li = [1,2,3,4,5]\n",
    "reverse_list(li)\n",
    "print(li)"
   ]
  },
  {
   "cell_type": "code",
   "execution_count": null,
   "metadata": {},
   "outputs": [],
   "source": [
    "#reversing a list using different approach\n",
    "def reverse_list(li):\n",
    "    length = len(li)\n",
    "    for i in range(length//2):\n",
    "        li[i],li[-i-1] = li[-i-1],li[i]\n",
    "        \n",
    "li = [1,2,3,4,5]\n",
    "reverse_list(li)\n",
    "print(li)"
   ]
  },
  {
   "cell_type": "code",
   "execution_count": 1,
   "metadata": {},
   "outputs": [
    {
     "name": "stdout",
     "output_type": "stream",
     "text": [
      "2\n",
      "5\n",
      "1 2 3 4 5\n",
      "2 1 4 3 5\n",
      "6\n",
      "1 3 5 6 7 9\n",
      "3 1 6 5 9 7\n"
     ]
    }
   ],
   "source": [
    "#SWAP alternate numbers\n",
    "t = int(input())\n",
    "while t>0:\n",
    "    n = int(input())\n",
    "    arr = [int(x) for x in input().split()]\n",
    "    length = len(arr)\n",
    "    for i in range(0,length-1,2):\n",
    "        arr[i],arr[i+1] = arr[i+1],arr[i]\n",
    "    \n",
    "    print(*arr)    \n",
    "    t=t-1"
   ]
  },
  {
   "cell_type": "code",
   "execution_count": 24,
   "metadata": {},
   "outputs": [
    {
     "name": "stdout",
     "output_type": "stream",
     "text": [
      "1\n",
      "7\n",
      "1 2 3 4 1 2 3\n",
      "4\n"
     ]
    }
   ],
   "source": [
    "#find unique number\n",
    "#LOGIC\n",
    "\n",
    "t = int(input())\n",
    "while t>0:\n",
    "    n = int(input())\n",
    "    arr = [int(x) for x in input().split()]\n",
    "    length = len(arr)\n",
    "    for i in range(0, length, 1):\n",
    "        for j in range(0, length, 1):\n",
    "            if arr[i] == arr[j] and i!=j:\n",
    "                break\n",
    "            \n",
    "        else:\n",
    "            print(arr[i])\n",
    "    \n",
    "    \n",
    "            \n",
    "    t = t-1"
   ]
  },
  {
   "cell_type": "code",
   "execution_count": 32,
   "metadata": {},
   "outputs": [
    {
     "name": "stdout",
     "output_type": "stream",
     "text": [
      "1\n",
      "5\n",
      "1 2 3 1 2\n",
      "3\n"
     ]
    }
   ],
   "source": [
    "#UNIQUE NUMBER USING FUNCTION\n",
    "\n",
    "import sys\n",
    "def uniqueNumber(arr, size):\n",
    "    for i in range(size):\n",
    "        for j in range(size):\n",
    "            if arr[i] == arr[j] and i!=j:\n",
    "                break\n",
    "        else:\n",
    "            return arr[i]\n",
    "\n",
    "def takeInput():\n",
    "    n = int(input())\n",
    "    if n == 0:\n",
    "        return list(), 0\n",
    "    arr = list(map(int, input().strip().split()))\n",
    "    return arr, n\n",
    "\n",
    "t = int(input())\n",
    "while t>0:\n",
    "    arr, n = takeInput()\n",
    "    print(uniqueNumber(arr, n))\n",
    "    \n",
    "    t -= 1"
   ]
  },
  {
   "cell_type": "code",
   "execution_count": 33,
   "metadata": {},
   "outputs": [
    {
     "name": "stdout",
     "output_type": "stream",
     "text": [
      "1\n",
      "5\n",
      "1 2 3 2 4\n",
      "2\n"
     ]
    }
   ],
   "source": [
    "#DUPLICATE NUMBER\n",
    "\n",
    "import sys\n",
    "def duplicateNumber(arr, length) :\n",
    "    length = len(arr)\n",
    "    for i in range(length - 1) :\n",
    "        for j in range((i + 1), length) :\n",
    "            if arr[i] == arr[j] :\n",
    "                return arr[i] \n",
    "def takeInput() :\n",
    "    n = int(input()) \n",
    "    if n == 0 :\n",
    "        return list(), 0\n",
    "    arr = list(map(int, input().strip().split())) \n",
    "    return arr, n\n",
    "t = int(input()) \n",
    "while t > 0 :\n",
    "    arr, n = takeInput()\n",
    "    print(duplicateNumber(arr, n))\n",
    "    \n",
    "    t -= 1"
   ]
  },
  {
   "cell_type": "code",
   "execution_count": 42,
   "metadata": {},
   "outputs": [
    {
     "name": "stdout",
     "output_type": "stream",
     "text": [
      "1\n",
      "5\n",
      "1 2 3 4 5\n",
      "4\n",
      "7 8 9 5\n",
      "5\n"
     ]
    }
   ],
   "source": [
    "#ARRAY INTERSECTION\n",
    "import sys\n",
    "def intersection(arr1, l1, arr2, l2):\n",
    "    l1 = len(arr1)\n",
    "    l2 = len(arr2)\n",
    "    for i in range(0, l1):\n",
    "        for j in range(0, l2):\n",
    "            if arr1[i] == arr2[j]:\n",
    "                return arr1[i]\n",
    "                break\n",
    "\n",
    "def takeInput():\n",
    "    n = int(input())\n",
    "    if n == 0:\n",
    "        return list(), 0\n",
    "    \n",
    "    arr = [int(x) for x in input().split()]\n",
    "    return arr, n\n",
    "\n",
    "t = int(input())\n",
    "while t>0:\n",
    "    arr1, l1 = takeInput()\n",
    "    arr2, l2 = takeInput()\n",
    "    print(intersection(arr1, li, arr2, l2))\n",
    "    \n",
    "    t -=1\n",
    "    \n"
   ]
  },
  {
   "cell_type": "code",
   "execution_count": 41,
   "metadata": {},
   "outputs": [
    {
     "name": "stdout",
     "output_type": "stream",
     "text": [
      "6\n",
      "1 3 5 7 9 2\n",
      "4\n",
      "4 6 7 8\n",
      "7\n"
     ]
    }
   ],
   "source": [
    "#logic of intersection\n",
    "\n",
    "\n",
    "n1 = int(input())\n",
    "arr1=[int(x) for x in input().strip().split()][:n1]\n",
    "n2=int(input())\n",
    "arr2=[int(x) for x in input().strip().split()][:n2]\n",
    "for i in range(0,len(arr1)):\n",
    "    for j in range(0,len(arr2)):\n",
    "        if(arr1[i]==arr2[j]):\n",
    "            print(arr1[i])\n",
    "            break"
   ]
  },
  {
   "cell_type": "code",
   "execution_count": 4,
   "metadata": {},
   "outputs": [
    {
     "name": "stdout",
     "output_type": "stream",
     "text": [
      "1\n",
      "6\n",
      "2 8 10 5 -2 5\n",
      "10\n",
      "2\n"
     ]
    }
   ],
   "source": [
    "#PAIR SUM\n",
    "\n",
    "import sys\n",
    "\n",
    "def pairSum(arr, l, x):\n",
    "    l = len(arr)\n",
    "    numPairs = 0\n",
    "    for i in range(l):\n",
    "        for j in range(i+1, l):\n",
    "            if arr[i] + arr[j] == x:\n",
    "                numPairs += 1\n",
    "    return numPairs\n",
    "    \n",
    "    \n",
    "    \n",
    "def takeInput():\n",
    "    n = int(input())\n",
    "    if n == 0:\n",
    "        return list(), 0\n",
    "    \n",
    "    arr = [int(x) for x in input().split()]\n",
    "    return arr, n\n",
    "\n",
    "t = int(input())\n",
    "while t>0:\n",
    "    arr, l = takeInput()\n",
    "    x = int(input())\n",
    "    print(pairSum(arr, l, x))\n",
    "    \n",
    "    t -=1\n",
    "    \n",
    "    "
   ]
  },
  {
   "cell_type": "code",
   "execution_count": 9,
   "metadata": {},
   "outputs": [
    {
     "name": "stdout",
     "output_type": "stream",
     "text": [
      "1\n",
      "7\n",
      "1 2 3 4 5 6 7\n",
      "12\n",
      "5\n"
     ]
    }
   ],
   "source": [
    "#TRIPLET SUM\n",
    "\n",
    "import sys\n",
    "\n",
    "def tripletSum(arr, l, x):\n",
    "    l = len(arr)\n",
    "    tripletPairs = 0\n",
    "    for i in range(l):\n",
    "        for j in range(i+1, l):\n",
    "            for k in range(j+1, l):\n",
    "                if arr[i] + arr[j] +arr[k] == x:\n",
    "                    tripletPairs += 1\n",
    "    return tripletPairs\n",
    "    \n",
    "    \n",
    "    \n",
    "def takeInput():\n",
    "    n = int(input())\n",
    "    if n == 0:\n",
    "        return list(), 0\n",
    "    \n",
    "    arr = [int(x) for x in input().split()]\n",
    "    return arr, n\n",
    "\n",
    "t = int(input())\n",
    "while t>0:\n",
    "    arr, l = takeInput()\n",
    "    x = int(input())\n",
    "    print(tripletSum(arr, l, x))\n",
    "    \n",
    "    t -=1\n",
    "    \n",
    "    "
   ]
  },
  {
   "cell_type": "code",
   "execution_count": 26,
   "metadata": {},
   "outputs": [
    {
     "name": "stdout",
     "output_type": "stream",
     "text": [
      "1\n",
      "5\n",
      "1 0 1 0 0\n",
      "0 0 0 1 1\n"
     ]
    }
   ],
   "source": [
    "#SORT  0 1\n",
    "\n",
    "import sys\n",
    "def sortZeroandOne(arr, size) :\n",
    "    arr.sort()\n",
    "    return arr\n",
    "        \n",
    "def takeInput() :\n",
    "    n = int(input()) \n",
    "    if n == 0 :\n",
    "        return list(), 0\n",
    "    arr = list(map(int, input().strip().split())) \n",
    "    return arr, n\n",
    "t = int(input()) \n",
    "while t > 0 :\n",
    "    arr, n = takeInput()\n",
    "    Array = sortZeroandOne(arr, n)\n",
    "    print(*Array)\n",
    "    \n",
    "    t -= 1\n",
    "\n"
   ]
  }
 ],
 "metadata": {
  "kernelspec": {
   "display_name": "Python 3",
   "language": "python",
   "name": "python3"
  },
  "language_info": {
   "codemirror_mode": {
    "name": "ipython",
    "version": 3
   },
   "file_extension": ".py",
   "mimetype": "text/x-python",
   "name": "python",
   "nbconvert_exporter": "python",
   "pygments_lexer": "ipython3",
   "version": "3.6.4"
  }
 },
 "nbformat": 4,
 "nbformat_minor": 2
}
